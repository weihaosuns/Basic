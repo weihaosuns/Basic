{
 "cells": [
  {
   "cell_type": "code",
   "id": "initial_id",
   "metadata": {
    "collapsed": true,
    "ExecuteTime": {
     "end_time": "2025-06-23T07:45:12.408557Z",
     "start_time": "2025-06-23T07:45:00.865115Z"
    }
   },
   "source": [
    "import csv\n",
    "from datetime import datetime, timezone\n",
    "from collections import deque\n",
    "import numpy as np\n",
    "from sklearn.linear_model import LogisticRegression"
   ],
   "outputs": [],
   "execution_count": 2
  },
  {
   "metadata": {
    "ExecuteTime": {
     "end_time": "2025-06-23T07:45:39.148724Z",
     "start_time": "2025-06-23T07:45:38.962515Z"
    }
   },
   "cell_type": "code",
   "source": [
    "def load_binance_csv(path):\n",
    "    candles = []\n",
    "    with open(path, \"r\") as f:\n",
    "        reader = csv.reader(f)\n",
    "        for row in reader:\n",
    "            candles.append({\n",
    "                \"timestamp\": int(row[0]) // 1000,\n",
    "                \"datetime\": datetime.fromtimestamp(int(row[0]) // 1_000_000, timezone.utc),\n",
    "                \"open\": float(row[1]),\n",
    "                \"high\": float(row[2]),\n",
    "                \"low\": float(row[3]),\n",
    "                \"close\": float(row[4]),\n",
    "                \"volume\": float(row[5]),\n",
    "            })\n",
    "    return candles\n",
    "\n",
    "path = \"../data/BTCUSDT-1m-2025-05.csv\"  # update to your filename\n",
    "candles = load_binance_csv(path)"
   ],
   "id": "65bfa6599bb628f2",
   "outputs": [],
   "execution_count": 3
  },
  {
   "metadata": {
    "ExecuteTime": {
     "end_time": "2025-06-09T11:13:29.002833Z",
     "start_time": "2025-06-09T11:13:28.996705Z"
    }
   },
   "cell_type": "code",
   "source": [
    "from analytics.MOMENTUM import (\n",
    "    sma_crossover_strategy,\n",
    "    ema_momentum_strategy,\n",
    "    roc_momentum_strategy,\n",
    "    macd_strategy,\n",
    "    rsi_strategy,\n",
    "    bollinger_bands_strategy,\n",
    "    momentum_with_volume_strategy,\n",
    "    markov_price_strategy,\n",
    ")"
   ],
   "id": "7a6abc1c1b204ce6",
   "outputs": [],
   "execution_count": 11
  },
  {
   "metadata": {
    "ExecuteTime": {
     "end_time": "2025-06-09T11:15:28.507018Z",
     "start_time": "2025-06-09T11:15:28.499830Z"
    }
   },
   "cell_type": "code",
   "source": [
    "def generate_training_data(candles, strategy_funcs, window_size=300):\n",
    "    features = []\n",
    "    labels = []\n",
    "    window = deque(maxlen=window_size)\n",
    "\n",
    "    for i in range(len(candles) - 1):\n",
    "        window.append(candles[i])\n",
    "        if len(window) < window_size:\n",
    "            continue\n",
    "\n",
    "        signals = [f(window) for f in strategy_funcs]\n",
    "        feat_row = []\n",
    "        for s in signals:\n",
    "            # Use confidence if buy or sell, else 0\n",
    "            feat_row.append(s[\"confidence\"] if s[\"signal\"] == \"buy\" else 0)\n",
    "            feat_row.append(s[\"confidence\"] if s[\"signal\"] == \"sell\" else 0)\n",
    "\n",
    "        next_close = candles[i + 1][\"close\"]\n",
    "        current_close = candles[i][\"close\"]\n",
    "        label = 1 if next_close > current_close else 0\n",
    "\n",
    "        features.append(feat_row)\n",
    "        labels.append(label)\n",
    "\n",
    "    return np.array(features), np.array(labels)\n",
    "\n",
    "\n",
    "def train_aggregator(features, labels):\n",
    "    model = LogisticRegression()\n",
    "    model.fit(features, labels)\n",
    "    return model\n",
    "\n",
    "\n",
    "def extract_strategy_weights(model, num_strategies):\n",
    "    weights = model.coef_[0]\n",
    "    strategy_weights = []\n",
    "    for i in range(num_strategies):\n",
    "        buy_weight = weights[2 * i]\n",
    "        sell_weight = weights[2 * i + 1]\n",
    "        strategy_weights.append({\"buy\": buy_weight, \"sell\": sell_weight})\n",
    "    return strategy_weights"
   ],
   "id": "ab8855e553d4515b",
   "outputs": [],
   "execution_count": 12
  },
  {
   "metadata": {
    "ExecuteTime": {
     "end_time": "2025-06-09T11:16:17.324447Z",
     "start_time": "2025-06-09T11:15:54.772194Z"
    }
   },
   "cell_type": "code",
   "source": [
    "strategies = [\n",
    "        sma_crossover_strategy,\n",
    "        ema_momentum_strategy,\n",
    "        roc_momentum_strategy,\n",
    "        macd_strategy,\n",
    "        rsi_strategy,\n",
    "        bollinger_bands_strategy,\n",
    "        momentum_with_volume_strategy,\n",
    "        markov_price_strategy,\n",
    "    ]\n",
    "\n",
    "print(\"Generating training data...\")\n",
    "features, labels = generate_training_data(candles, strategies)\n",
    "\n",
    "print(\"Training logistic regression aggregator...\")\n",
    "model = train_aggregator(features, labels)\n",
    "\n",
    "print(\"Extracting strategy weights...\")\n",
    "weights = extract_strategy_weights(model, len(strategies))\n",
    "\n",
    "for i, w in enumerate(weights):\n",
    "    print(f\"Strategy {i+1}: Buy Weight = {w['buy']:.4f}, Sell Weight = {w['sell']:.4f}\")"
   ],
   "id": "598d8b33d81bdbe5",
   "outputs": [
    {
     "name": "stdout",
     "output_type": "stream",
     "text": [
      "Generating training data...\n",
      "Training logistic regression aggregator...\n",
      "Extracting strategy weights...\n",
      "Strategy 1: Buy Weight = 0.0324, Sell Weight = 0.0380\n",
      "Strategy 2: Buy Weight = -0.0530, Sell Weight = 0.0340\n",
      "Strategy 3: Buy Weight = 0.0018, Sell Weight = 0.0059\n",
      "Strategy 4: Buy Weight = -0.0043, Sell Weight = -0.0068\n",
      "Strategy 5: Buy Weight = -0.0019, Sell Weight = -0.0763\n",
      "Strategy 6: Buy Weight = -0.0001, Sell Weight = 0.0003\n",
      "Strategy 7: Buy Weight = 0.0206, Sell Weight = 0.1004\n",
      "Strategy 8: Buy Weight = 0.0075, Sell Weight = -0.1202\n"
     ]
    }
   ],
   "execution_count": 14
  },
  {
   "metadata": {
    "ExecuteTime": {
     "end_time": "2025-06-09T11:18:23.297903Z",
     "start_time": "2025-06-09T11:18:23.292278Z"
    }
   },
   "cell_type": "code",
   "source": "weights",
   "id": "9e974407b7910f4a",
   "outputs": [
    {
     "data": {
      "text/plain": [
       "[{'buy': np.float64(0.03244280654346815),\n",
       "  'sell': np.float64(0.03804849089987302)},\n",
       " {'buy': np.float64(-0.05297275052732096),\n",
       "  'sell': np.float64(0.03397235873034015)},\n",
       " {'buy': np.float64(0.001761384766475957),\n",
       "  'sell': np.float64(0.005894839787707059)},\n",
       " {'buy': np.float64(-0.004270414821777813),\n",
       "  'sell': np.float64(-0.0068446179029911895)},\n",
       " {'buy': np.float64(-0.001857576623100386),\n",
       "  'sell': np.float64(-0.07633625060985212)},\n",
       " {'buy': np.float64(-8.465059911680986e-05),\n",
       "  'sell': np.float64(0.00034531225160149215)},\n",
       " {'buy': np.float64(0.020615215447378748),\n",
       "  'sell': np.float64(0.10036010981203138)},\n",
       " {'buy': np.float64(0.0075037459512008724),\n",
       "  'sell': np.float64(-0.12022576934241866)}]"
      ]
     },
     "execution_count": 15,
     "metadata": {},
     "output_type": "execute_result"
    }
   ],
   "execution_count": 15
  },
  {
   "metadata": {},
   "cell_type": "code",
   "outputs": [],
   "execution_count": null,
   "source": "",
   "id": "82a6a933cce6da94"
  }
 ],
 "metadata": {
  "kernelspec": {
   "display_name": "Python 3",
   "language": "python",
   "name": "python3"
  },
  "language_info": {
   "codemirror_mode": {
    "name": "ipython",
    "version": 2
   },
   "file_extension": ".py",
   "mimetype": "text/x-python",
   "name": "python",
   "nbconvert_exporter": "python",
   "pygments_lexer": "ipython2",
   "version": "2.7.6"
  }
 },
 "nbformat": 4,
 "nbformat_minor": 5
}
